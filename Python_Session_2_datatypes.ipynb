{
 "cells": [
  {
   "cell_type": "markdown",
   "id": "c76c94e1-be82-4859-93bc-c7b30948909e",
   "metadata": {},
   "source": [
    "**Data Types**"
   ]
  },
  {
   "cell_type": "markdown",
   "id": "bb10ea97-27aa-48c3-9886-490b1fe424ea",
   "metadata": {},
   "source": [
    "- In python we have many data types are there\n",
    " - Interger\n",
    " - float\n",
    " - string\n",
    " - boolean"
   ]
  },
  {
   "cell_type": "markdown",
   "id": "bc0612a6-040a-43b4-8821-214972aa477c",
   "metadata": {},
   "source": [
    "**Integer**"
   ]
  },
  {
   "cell_type": "markdown",
   "id": "7cf9e4a0-aecb-43a8-8a48-7d4743ee0fd9",
   "metadata": {},
   "source": [
    "- In python no need to mention a data type like c\n",
    "- It will consider the data type automatically"
   ]
  },
  {
   "cell_type": "code",
   "execution_count": null,
   "id": "ca79bd54-248d-4e20-a76a-b3b0c3515e34",
   "metadata": {},
   "outputs": [],
   "source": [
    "number=100\n",
    "# in order to check the type of a variable we will use\n",
    "# In built funstion calles as type"
   ]
  },
  {
   "cell_type": "code",
   "execution_count": 8,
   "id": "c0659f8b-181d-49dc-9096-03819bc91fdc",
   "metadata": {},
   "outputs": [
    {
     "data": {
      "text/plain": [
       "int"
      ]
     },
     "execution_count": 8,
     "metadata": {},
     "output_type": "execute_result"
    }
   ],
   "source": [
    "type(100)"
   ]
  },
  {
   "cell_type": "markdown",
   "id": "8b545652-c921-4d39-a189-956dc7c4ac93",
   "metadata": {},
   "source": [
    "- In maths we have different types are available\n",
    "**The following Number System are**:\n",
    "    - Binary\n",
    "    - Octa\n",
    "    - Decimal\n",
    "    - hexa"
   ]
  },
  {
   "cell_type": "markdown",
   "id": "0ed18f71-03f9-4ea7-88d5-16aeee1d59d9",
   "metadata": {},
   "source": [
    "**Binary**\n",
    "- Binary hasbi which indicates two\n",
    "- we have total 0 to 9 to represent any number\n",
    "- from there we eill take only first two digits i.e.0 and 1\n",
    "- Example:0b101,0B0001\n",
    "- Wrong representationis :0b002"
   ]
  },
  {
   "cell_type": "code",
   "execution_count": 14,
   "id": "69b4bd45-0747-4fc8-a7fb-5411b5d6d8d2",
   "metadata": {},
   "outputs": [
    {
     "data": {
      "text/plain": [
       "7"
      ]
     },
     "execution_count": 14,
     "metadata": {},
     "output_type": "execute_result"
    }
   ],
   "source": [
    "num=0b111\n",
    "num"
   ]
  },
  {
   "cell_type": "code",
   "execution_count": 19,
   "id": "d18f5e3a-670b-42f2-a241-40df68f0358b",
   "metadata": {},
   "outputs": [
    {
     "data": {
      "text/plain": [
       "33"
      ]
     },
     "execution_count": 19,
     "metadata": {},
     "output_type": "execute_result"
    }
   ],
   "source": [
    "0b100001"
   ]
  },
  {
   "cell_type": "code",
   "execution_count": 21,
   "id": "03e85c92-e932-43a9-832a-6bcaa0c77b3d",
   "metadata": {},
   "outputs": [
    {
     "data": {
      "text/plain": [
       "5"
      ]
     },
     "execution_count": 21,
     "metadata": {},
     "output_type": "execute_result"
    }
   ],
   "source": [
    "0b00101"
   ]
  },
  {
   "cell_type": "code",
   "execution_count": 23,
   "id": "2ad31e71-485b-4015-9d08-70ae6bf7e37e",
   "metadata": {},
   "outputs": [
    {
     "data": {
      "text/plain": [
       "25"
      ]
     },
     "execution_count": 23,
     "metadata": {},
     "output_type": "execute_result"
    }
   ],
   "source": [
    "0b11001"
   ]
  },
  {
   "cell_type": "code",
   "execution_count": null,
   "id": "bc53d34e-e46d-4b27-9e11-47ce67b2e1d8",
   "metadata": {},
   "outputs": [],
   "source": [
    "# Digital \n",
    "4 2 1 num\n",
    "0 0 0 0   #0b000=0\n",
    "0 0 1 1   #0b001=1\n",
    "0 1 0 2   #0b010=2\n",
    "0 1 1 3   #0b011=3\n",
    "1 0 0 4   #0b100=4\n",
    "1 0 1 5   #0b101=5\n",
    "1 1 0 6   #0b110=6\n",
    "1 1 1 7   #0b111=7\n"
   ]
  },
  {
   "cell_type": "markdown",
   "id": "8d7b3ca9-e9de-47fd-a1ca-440f8895afa2",
   "metadata": {},
   "source": [
    "**Octa**"
   ]
  },
  {
   "cell_type": "markdown",
   "id": "6edc209e-e307-40a3-8440-73d278be4ea8",
   "metadata": {},
   "source": []
  },
  {
   "cell_type": "markdown",
   "id": "86c2922c-8350-4d32-bd2a-e4a3eb6fa251",
   "metadata": {},
   "source": [
    "\n",
    "**Octa**\n",
    "- octa means8\n",
    "- We have total 0 to 9 digits to represent any number: 0,1,2,3,4,5,6,7,8,9\n",
    "- From there we will take only starting 8 digits i.e.0 to 7\n",
    "- Example; 0o123,0o567,0o10006\n",
    "- wrong representation is :0o786 because 7,6 but 8\n"
   ]
  },
  {
   "cell_type": "code",
   "execution_count": 10,
   "id": "c1185a5c-9be2-4d07-afc6-33635e13000d",
   "metadata": {},
   "outputs": [
    {
     "data": {
      "text/plain": [
       "83"
      ]
     },
     "execution_count": 10,
     "metadata": {},
     "output_type": "execute_result"
    }
   ],
   "source": [
    "0o123"
   ]
  },
  {
   "cell_type": "code",
   "execution_count": 12,
   "id": "e211fee1-e5a5-4dbf-aaf0-8ab70cd32a4a",
   "metadata": {},
   "outputs": [
    {
     "data": {
      "text/plain": [
       "375"
      ]
     },
     "execution_count": 12,
     "metadata": {},
     "output_type": "execute_result"
    }
   ],
   "source": [
    "0o567"
   ]
  },
  {
   "cell_type": "code",
   "execution_count": 14,
   "id": "8f4e7bb4-b601-4029-8e52-55fc864431e5",
   "metadata": {},
   "outputs": [
    {
     "data": {
      "text/plain": [
       "4102"
      ]
     },
     "execution_count": 14,
     "metadata": {},
     "output_type": "execute_result"
    }
   ],
   "source": [
    "0o10006"
   ]
  },
  {
   "cell_type": "code",
   "execution_count": 20,
   "id": "cce81a1e-9df9-4f23-b4c7-1a8c55d76b37",
   "metadata": {},
   "outputs": [
    {
     "data": {
      "text/plain": [
       "483"
      ]
     },
     "execution_count": 20,
     "metadata": {},
     "output_type": "execute_result"
    }
   ],
   "source": [
    "0o743"
   ]
  },
  {
   "cell_type": "code",
   "execution_count": 22,
   "id": "b2e7244a-085d-4122-9ddf-147fc032aace",
   "metadata": {},
   "outputs": [
    {
     "data": {
      "text/plain": [
       "153"
      ]
     },
     "execution_count": 22,
     "metadata": {},
     "output_type": "execute_result"
    }
   ],
   "source": [
    "0o231"
   ]
  },
  {
   "cell_type": "code",
   "execution_count": 24,
   "id": "e0138314-154f-4005-bc67-79aea46a4fc6",
   "metadata": {},
   "outputs": [
    {
     "data": {
      "text/plain": [
       "499"
      ]
     },
     "execution_count": 24,
     "metadata": {},
     "output_type": "execute_result"
    }
   ],
   "source": [
    "0o763"
   ]
  },
  {
   "cell_type": "code",
   "execution_count": 26,
   "id": "df5e820d-94cc-4aeb-9c8a-ae3caf7a08eb",
   "metadata": {},
   "outputs": [
    {
     "ename": "SyntaxError",
     "evalue": "invalid digit '8' in octal literal (3171049937.py, line 1)",
     "output_type": "error",
     "traceback": [
      "\u001b[1;36m  Cell \u001b[1;32mIn[26], line 1\u001b[1;36m\u001b[0m\n\u001b[1;33m    0o786\u001b[0m\n\u001b[1;37m       ^\u001b[0m\n\u001b[1;31mSyntaxError\u001b[0m\u001b[1;31m:\u001b[0m invalid digit '8' in octal literal\n"
     ]
    }
   ],
   "source": [
    "0o786"
   ]
  },
  {
   "cell_type": "code",
   "execution_count": 28,
   "id": "37680ba4-b655-4b27-8273-a55297435fad",
   "metadata": {},
   "outputs": [
    {
     "data": {
      "text/plain": [
       "302"
      ]
     },
     "execution_count": 28,
     "metadata": {},
     "output_type": "execute_result"
    }
   ],
   "source": [
    "0O456"
   ]
  },
  {
   "cell_type": "markdown",
   "id": "c5e29570-00a4-4c0a-881f-56f0b43c39a8",
   "metadata": {},
   "source": [
    "**Hexa**\n",
    "- Hexa means 16\n",
    "- We have total 0 to 8 digits to representation any number 0,1,2,3,4,5,6,7,8,9\n",
    "- After 9 we will use Ato F A:10,B:11,c:12,D:13,E:14,F:15\n",
    "- Example: 0x123, 0XABC,0x9ad\n",
    "- Wrong representation  is:0xFGH\n"
   ]
  },
  {
   "cell_type": "code",
   "execution_count": 38,
   "id": "df4fa2f9-19fe-44e1-8b98-a81001348322",
   "metadata": {},
   "outputs": [
    {
     "data": {
      "text/plain": [
       "2745"
      ]
     },
     "execution_count": 38,
     "metadata": {},
     "output_type": "execute_result"
    }
   ],
   "source": [
    "0xab9"
   ]
  },
  {
   "cell_type": "code",
   "execution_count": 40,
   "id": "8f7b0404-a38d-438b-a886-06d13d73034b",
   "metadata": {},
   "outputs": [
    {
     "data": {
      "text/plain": [
       "9643"
      ]
     },
     "execution_count": 40,
     "metadata": {},
     "output_type": "execute_result"
    }
   ],
   "source": [
    "0x25ab"
   ]
  },
  {
   "cell_type": "code",
   "execution_count": 42,
   "id": "d2f7ceba-d760-4e95-9174-d767d55e7199",
   "metadata": {},
   "outputs": [
    {
     "data": {
      "text/plain": [
       "2748"
      ]
     },
     "execution_count": 42,
     "metadata": {},
     "output_type": "execute_result"
    }
   ],
   "source": [
    "0xabc"
   ]
  },
  {
   "cell_type": "markdown",
   "id": "60bd4bc1-d4c7-4d61-9fbd-c8c5fe20c858",
   "metadata": {},
   "source": [
    "**Float**\n"
   ]
  },
  {
   "cell_type": "code",
   "execution_count": 51,
   "id": "9038bada-5c23-4962-b60e-afebb7433c5a",
   "metadata": {},
   "outputs": [
    {
     "data": {
      "text/plain": [
       "float"
      ]
     },
     "execution_count": 51,
     "metadata": {},
     "output_type": "execute_result"
    }
   ],
   "source": [
    "number=10.5 \n",
    "type(number)"
   ]
  },
  {
   "cell_type": "code",
   "execution_count": 53,
   "id": "05dbcc04-f391-4312-bd8d-526255b3a4e4",
   "metadata": {},
   "outputs": [
    {
     "data": {
      "text/plain": [
       "(int, float)"
      ]
     },
     "execution_count": 53,
     "metadata": {},
     "output_type": "execute_result"
    }
   ],
   "source": [
    "type(10),type(10.5)"
   ]
  },
  {
   "cell_type": "code",
   "execution_count": 78,
   "id": "bc8b38c2-0d1f-445b-afd2-baee7dfd3252",
   "metadata": {},
   "outputs": [
    {
     "data": {
      "text/plain": [
       "100000.0"
      ]
     },
     "execution_count": 78,
     "metadata": {},
     "output_type": "execute_result"
    }
   ],
   "source": [
    "10e1\n",
    "10e2\n",
    "10e3\n",
    "10e4"
   ]
  },
  {
   "cell_type": "code",
   "execution_count": 65,
   "id": "76b71665-af16-4a78-ba85-923f217c9d03",
   "metadata": {},
   "outputs": [
    {
     "data": {
      "text/plain": [
       "20"
      ]
     },
     "execution_count": 65,
     "metadata": {},
     "output_type": "execute_result"
    }
   ],
   "source": [
    "10\n",
    "20  #In jupyter note book by default last value will print"
   ]
  },
  {
   "cell_type": "code",
   "execution_count": 67,
   "id": "2611e1e6-875f-4416-91c3-83a5c5dfb8f5",
   "metadata": {},
   "outputs": [
    {
     "name": "stdout",
     "output_type": "stream",
     "text": [
      "10\n",
      "20\n"
     ]
    }
   ],
   "source": [
    "#If yo want to se all answer print\n",
    "print(10)\n",
    "print(20)"
   ]
  },
  {
   "cell_type": "code",
   "execution_count": 69,
   "id": "f1f9d5dc-8ca9-4041-a28e-09ad3762149e",
   "metadata": {},
   "outputs": [
    {
     "name": "stdout",
     "output_type": "stream",
     "text": [
      "100.0\n"
     ]
    }
   ],
   "source": [
    "print(10e1)"
   ]
  },
  {
   "cell_type": "code",
   "execution_count": 71,
   "id": "93c08003-b86e-4e78-b5a6-8752fda43046",
   "metadata": {},
   "outputs": [
    {
     "name": "stdout",
     "output_type": "stream",
     "text": [
      "1000.0\n"
     ]
    }
   ],
   "source": [
    "print(10e2)"
   ]
  },
  {
   "cell_type": "code",
   "execution_count": 73,
   "id": "19bd74b4-c1c3-4702-b5dd-77f458b1b7e7",
   "metadata": {},
   "outputs": [
    {
     "name": "stdout",
     "output_type": "stream",
     "text": [
      "10000.0\n"
     ]
    }
   ],
   "source": [
    "print(10e3)"
   ]
  },
  {
   "cell_type": "code",
   "execution_count": 75,
   "id": "142b19ef-83c6-4ed3-bc9f-fff5a56c39db",
   "metadata": {},
   "outputs": [
    {
     "name": "stdout",
     "output_type": "stream",
     "text": [
      "100000.0\n"
     ]
    }
   ],
   "source": [
    "print(10e4)"
   ]
  },
  {
   "cell_type": "code",
   "execution_count": 80,
   "id": "56ae4e74-b8e5-41bd-b569-e38a9db9891e",
   "metadata": {},
   "outputs": [
    {
     "data": {
      "text/plain": [
       "10000.0"
      ]
     },
     "execution_count": 80,
     "metadata": {},
     "output_type": "execute_result"
    }
   ],
   "source": [
    "10e+1\n",
    "10e+2\n",
    "10e+3"
   ]
  },
  {
   "cell_type": "code",
   "execution_count": 82,
   "id": "79be6135-9a46-4d6d-a3d4-eb6f67671ef6",
   "metadata": {},
   "outputs": [
    {
     "data": {
      "text/plain": [
       "0.01"
      ]
     },
     "execution_count": 82,
     "metadata": {},
     "output_type": "execute_result"
    }
   ],
   "source": [
    "10e-1  #10/<10>=1\n",
    "10e-2  #10/<100> 0.1\n",
    "10e-3  #10/<1000>=0.01"
   ]
  },
  {
   "cell_type": "code",
   "execution_count": 84,
   "id": "c3c0fe29-959b-4e45-a228-62f0ec9c1f97",
   "metadata": {},
   "outputs": [
    {
     "name": "stdout",
     "output_type": "stream",
     "text": [
      "1.0\n",
      "0.1\n",
      "0.01\n"
     ]
    },
    {
     "data": {
      "text/plain": [
       "(None, None, None)"
      ]
     },
     "execution_count": 84,
     "metadata": {},
     "output_type": "execute_result"
    }
   ],
   "source": [
    "print(10e-1),print(10e-2),print(10e-3)"
   ]
  },
  {
   "cell_type": "markdown",
   "id": "52c75d65-bf63-4fe4-8a7b-903eead2dd96",
   "metadata": {},
   "source": [
    "- in the machine learning we often see values in exponential form\n",
    "- In some cases we need to search for zero\n",
    "- In ML with Python we rarely see exact an answee 0.0\n",
    "- Instead of 0.0 it will display as 1.2345e-17"
   ]
  },
  {
   "cell_type": "markdown",
   "id": "f586fd39-d526-435a-bbd5-8465b162f1c5",
   "metadata": {},
   "source": [
    "**Strings**"
   ]
  },
  {
   "cell_type": "markdown",
   "id": "53d03aad-c6c9-40de-9c25-dd39f65ad2a3",
   "metadata": {},
   "source": [
    "  - String represents english characters generally\n",
    "  - String will represents with quotes\n",
    "    - Single quotes\n",
    "    - Double Quotes\n",
    "    - Tripple Quotes"
   ]
  },
  {
   "cell_type": "code",
   "execution_count": 92,
   "id": "cac610e5-eff4-4fa3-81b5-f6a149c7fd20",
   "metadata": {},
   "outputs": [
    {
     "data": {
      "text/plain": [
       "'Archana'"
      ]
     },
     "execution_count": 92,
     "metadata": {},
     "output_type": "execute_result"
    }
   ],
   "source": [
    "str1='Archana'  #SingleQuote\n",
    "str1"
   ]
  },
  {
   "cell_type": "code",
   "execution_count": 94,
   "id": "afd6d134-9798-43c8-848f-6a4feb8b0944",
   "metadata": {},
   "outputs": [
    {
     "data": {
      "text/plain": [
       "str"
      ]
     },
     "execution_count": 94,
     "metadata": {},
     "output_type": "execute_result"
    }
   ],
   "source": [
    "type(str1)"
   ]
  },
  {
   "cell_type": "code",
   "execution_count": 96,
   "id": "996ed03e-4117-4c1c-ae88-b0330dcfb3d8",
   "metadata": {},
   "outputs": [
    {
     "data": {
      "text/plain": [
       "'Archana'"
      ]
     },
     "execution_count": 96,
     "metadata": {},
     "output_type": "execute_result"
    }
   ],
   "source": [
    "str2=\"Archana\" #Duble Quote\n",
    "str2"
   ]
  },
  {
   "cell_type": "markdown",
   "id": "d848d603-5add-48d9-865f-c1a45104e57e",
   "metadata": {},
   "source": [
    "- we can represent in any quotes but python will give output in single quote only"
   ]
  },
  {
   "cell_type": "code",
   "execution_count": 99,
   "id": "12a89214-abdc-4e8b-9c06-a59655177685",
   "metadata": {},
   "outputs": [
    {
     "name": "stdout",
     "output_type": "stream",
     "text": [
      "Archana\n"
     ]
    }
   ],
   "source": [
    "print(str1)"
   ]
  },
  {
   "cell_type": "code",
   "execution_count": 101,
   "id": "c6f93580-f5ed-48a3-91d2-6b42c517b377",
   "metadata": {},
   "outputs": [
    {
     "name": "stdout",
     "output_type": "stream",
     "text": [
      "Archana\n"
     ]
    }
   ],
   "source": [
    "print(str2)"
   ]
  },
  {
   "cell_type": "markdown",
   "id": "73a80a35-800a-4d0a-aefb-df741df55286",
   "metadata": {},
   "source": [
    "- When we apply print on string ,It will display with out Quotes"
   ]
  },
  {
   "cell_type": "code",
   "execution_count": 104,
   "id": "529bb0fc-f3d2-49ee-9bf1-8770e8d84f7a",
   "metadata": {},
   "outputs": [
    {
     "data": {
      "text/plain": [
       "str"
      ]
     },
     "execution_count": 104,
     "metadata": {},
     "output_type": "execute_result"
    }
   ],
   "source": [
    "str3='abc123'\n",
    "type(str3)"
   ]
  },
  {
   "cell_type": "code",
   "execution_count": 106,
   "id": "a761d9b6-b7bf-4033-8fc2-1ca894aefe56",
   "metadata": {},
   "outputs": [
    {
     "data": {
      "text/plain": [
       "(str, str, str)"
      ]
     },
     "execution_count": 106,
     "metadata": {},
     "output_type": "execute_result"
    }
   ],
   "source": [
    "type('10'),type('10.5'),type('123')"
   ]
  },
  {
   "cell_type": "markdown",
   "id": "63316030-c08e-49a0-8f9c-d81420d88468",
   "metadata": {},
   "source": [
    "- Any data type or any value is provided by quotes it becomes a string only\n",
    "- string color in Red color\n",
    "- Variables color in Black color\n",
    "- keyword or numbers always in Green color"
   ]
  },
  {
   "cell_type": "code",
   "execution_count": 112,
   "id": "64110f69-9728-490e-8a43-20f0b9ce5ba6",
   "metadata": {},
   "outputs": [
    {
     "data": {
      "text/plain": [
       "'python'"
      ]
     },
     "execution_count": 112,
     "metadata": {},
     "output_type": "execute_result"
    }
   ],
   "source": [
    "python=\"python\"\n",
    "python\n",
    "# \"Python\" is a english letters stored in avariable name called python"
   ]
  },
  {
   "cell_type": "code",
   "execution_count": 118,
   "id": "91df5f7b-96c6-4eb8-8056-9bb75a7bf8b0",
   "metadata": {},
   "outputs": [
    {
     "name": "stdout",
     "output_type": "stream",
     "text": [
      "I like 'python'\n"
     ]
    }
   ],
   "source": [
    "str1=\"I like 'python'\"\n",
    "print(str1)"
   ]
  },
  {
   "cell_type": "code",
   "execution_count": 120,
   "id": "e4711ce7-5d20-48f4-bb78-6b34b8c9e2ff",
   "metadata": {},
   "outputs": [
    {
     "data": {
      "text/plain": [
       "'I like \"python\"'"
      ]
     },
     "execution_count": 120,
     "metadata": {},
     "output_type": "execute_result"
    }
   ],
   "source": [
    "str2='I like \"python\"'\n",
    "str2"
   ]
  },
  {
   "cell_type": "markdown",
   "id": "500a22c9-e140-4ee0-9d00-eb4d4c0595ad",
   "metadata": {},
   "source": [
    "- if you want to highlight word \n",
    "- represent entire string single quote and highlite word in double quote\n",
    "- represent entire string in double quote and highlight word in single quote"
   ]
  },
  {
   "cell_type": "code",
   "execution_count": 129,
   "id": "421b2f1a-4f64-44c5-9c60-04778be627d1",
   "metadata": {},
   "outputs": [
    {
     "ename": "SyntaxError",
     "evalue": "unterminated string literal (detected at line 1) (4192490924.py, line 1)",
     "output_type": "error",
     "traceback": [
      "\u001b[1;36m  Cell \u001b[1;32mIn[129], line 1\u001b[1;36m\u001b[0m\n\u001b[1;33m    str1='hai\u001b[0m\n\u001b[1;37m         ^\u001b[0m\n\u001b[1;31mSyntaxError\u001b[0m\u001b[1;31m:\u001b[0m unterminated string literal (detected at line 1)\n"
     ]
    }
   ],
   "source": [
    "str1='hai\n",
    "how are you'"
   ]
  },
  {
   "cell_type": "code",
   "execution_count": 127,
   "id": "c88923d0-b4c5-448a-8dad-11e1bea09383",
   "metadata": {},
   "outputs": [
    {
     "name": "stdout",
     "output_type": "stream",
     "text": [
      "hi\n",
      "   how are you\n",
      "     I am fine\n"
     ]
    }
   ],
   "source": [
    "str1=\"\"\"hi\n",
    "   how are you\n",
    "     I am fine\"\"\"\n",
    "print(str1)"
   ]
  },
  {
   "cell_type": "markdown",
   "id": "396341be-8cd6-41d1-940c-94b2016bfbf5",
   "metadata": {},
   "source": [
    "- Triple Quotes is used to write  a multi line comment\n",
    "- This is called as**Docstring**\n",
    "- In order to write a story in jupyter notebook we have mark down\n",
    "- But other plat formlike VSCODE, PYCHARM we dont have markdown\n",
    "- Then how we can write a story: by using triple quotes\n",
    "- If any person Writing some thing using triple quotes  ,which indicates the user is trying to convey the information\n",
    "- Then its called Docstring"
   ]
  },
  {
   "cell_type": "markdown",
   "id": "50f4f331-3c01-4445-9e60-5bef7d842f81",
   "metadata": {},
   "source": [
    "**Boolean**"
   ]
  },
  {
   "cell_type": "markdown",
   "id": "c0f1db56-be38-47ef-9660-b1696169b8ec",
   "metadata": {},
   "source": [
    "- for computer takes the values in binary format (0,1)\n",
    "- computer gives answer in boolean format\n",
    "  - true\n",
    "  - false\n",
    "- true indicates 1\n",
    "- false indicates 0"
   ]
  },
  {
   "cell_type": "code",
   "execution_count": 141,
   "id": "a2349a8d-1a5a-44af-8469-1a71e12de819",
   "metadata": {},
   "outputs": [
    {
     "data": {
      "text/plain": [
       "bool"
      ]
     },
     "execution_count": 141,
     "metadata": {},
     "output_type": "execute_result"
    }
   ],
   "source": [
    "val1=True\n",
    "type(val1)"
   ]
  },
  {
   "cell_type": "code",
   "execution_count": 143,
   "id": "61b9f35a-ea28-4ecd-b97d-4521a8d5b3fd",
   "metadata": {},
   "outputs": [
    {
     "data": {
      "text/plain": [
       "bool"
      ]
     },
     "execution_count": 143,
     "metadata": {},
     "output_type": "execute_result"
    }
   ],
   "source": [
    "val2=False\n",
    "type(val2)"
   ]
  },
  {
   "cell_type": "code",
   "execution_count": 145,
   "id": "6604ed62-d836-4c76-8bb2-62e1ed75028e",
   "metadata": {},
   "outputs": [],
   "source": [
    "true='True'\n",
    "TRUE=True\n",
    "#true,TRUE=variables"
   ]
  },
  {
   "cell_type": "code",
   "execution_count": 147,
   "id": "9a901be4-2644-4cea-8afc-a15f5b505011",
   "metadata": {},
   "outputs": [],
   "source": [
    "a=10\n",
    "b=10.6\n",
    "c=\"10\"\n",
    "d=True"
   ]
  },
  {
   "cell_type": "code",
   "execution_count": 153,
   "id": "df9ccf99-fba2-41b9-88e5-cf546bb3ef80",
   "metadata": {},
   "outputs": [
    {
     "data": {
      "text/plain": [
       "bool"
      ]
     },
     "execution_count": 153,
     "metadata": {},
     "output_type": "execute_result"
    }
   ],
   "source": [
    "type(a),\n",
    "type(b),\n",
    "type(c),\n",
    "type(d)"
   ]
  },
  {
   "cell_type": "code",
   "execution_count": null,
   "id": "59a13146-7867-48a6-8b01-bbc9189f2fb6",
   "metadata": {},
   "outputs": [],
   "source": []
  }
 ],
 "metadata": {
  "kernelspec": {
   "display_name": "Python 3 (ipykernel)",
   "language": "python",
   "name": "python3"
  },
  "language_info": {
   "codemirror_mode": {
    "name": "ipython",
    "version": 3
   },
   "file_extension": ".py",
   "mimetype": "text/x-python",
   "name": "python",
   "nbconvert_exporter": "python",
   "pygments_lexer": "ipython3",
   "version": "3.12.4"
  }
 },
 "nbformat": 4,
 "nbformat_minor": 5
}
