{
 "cells": [
  {
   "cell_type": "markdown",
   "id": "d98166c6-485c-467a-8dd5-3f7cda0b9410",
   "metadata": {},
   "source": [
    "**Print Statement**"
   ]
  },
  {
   "cell_type": "markdown",
   "id": "d8180c26-04ef-4a5b-b5b2-5f4fb0ace052",
   "metadata": {},
   "source": [
    "- Print is the inbuilt function ,to see answer\n",
    "- In jupyter notebook we can see latest value without using print\n",
    "- If you want to see all the values we use print\n",
    "- In VS code ,pycharm there is no markdown option\n",
    "- If we want to see any answer ,we need to use print statement "
   ]
  },
  {
   "cell_type": "code",
   "execution_count": 9,
   "id": "b83e3c1e-99a9-46b1-afaa-4ee931209a3e",
   "metadata": {},
   "outputs": [
    {
     "data": {
      "text/plain": [
       "100"
      ]
     },
     "execution_count": 9,
     "metadata": {},
     "output_type": "execute_result"
    }
   ],
   "source": [
    "num1=100\n",
    "num2=200\n",
    "num1"
   ]
  },
  {
   "cell_type": "code",
   "execution_count": 11,
   "id": "bb4ba2f3-4672-4bfa-a3a2-ffb710c5c371",
   "metadata": {},
   "outputs": [
    {
     "name": "stdout",
     "output_type": "stream",
     "text": [
      "100\n",
      "200\n"
     ]
    }
   ],
   "source": [
    "print(num1)\n",
    "print(num2)"
   ]
  },
  {
   "cell_type": "code",
   "execution_count": 21,
   "id": "716b104f-1f75-48f5-b0ad-33b7077ea738",
   "metadata": {},
   "outputs": [
    {
     "name": "stdout",
     "output_type": "stream",
     "text": [
      "100 200\n",
      "Archana Ashwini\n",
      "Archana Ashwini 100 200\n"
     ]
    }
   ],
   "source": [
    "print(num1,num2)\n",
    "print('Archana','Ashwini')\n",
    "print('Archana','Ashwini',num1,num2)"
   ]
  },
  {
   "cell_type": "code",
   "execution_count": 47,
   "id": "e27122a5-7979-446d-9288-e094b190ebe6",
   "metadata": {},
   "outputs": [
    {
     "name": "stdout",
     "output_type": "stream",
     "text": [
      "The addition of 10 and 20 is 30\n",
      "The addition of a and b is c\n",
      "Addition of a 10 and 20 is 30\n"
     ]
    }
   ],
   "source": [
    "a=10\n",
    "b=20\n",
    "c=a+b\n",
    "c\n",
    "# The Addition of 10 and 20 is 30\n",
    "print(\"The addition of 10 and 20 is 30\")\n",
    "print(\"The addition of a and b is c\")\n",
    "print('Addition of a',a,'and',b,'is',c)"
   ]
  },
  {
   "cell_type": "code",
   "execution_count": 61,
   "id": "e39dc958-da2a-47f5-b67c-41bedfd338de",
   "metadata": {},
   "outputs": [
    {
     "name": "stdout",
     "output_type": "stream",
     "text": [
      "My name is Archana I am year old 19 I came form  Jalna\n"
     ]
    }
   ],
   "source": [
    "name='Archana'\n",
    "age=19\n",
    "city='Jalna'\n",
    "print(\"My name is\",name,\"I am year old\",age, \"I came form \",city)"
   ]
  },
  {
   "cell_type": "code",
   "execution_count": null,
   "id": "b0fbfcbc-0138-4231-ae13-885ea5cfa5bc",
   "metadata": {},
   "outputs": [],
   "source": []
  },
  {
   "cell_type": "markdown",
   "id": "c05ad5c9-f2e4-4518-9d8c-32ae3cf8f145",
   "metadata": {},
   "source": [
    "**Format Method**"
   ]
  },
  {
   "cell_type": "code",
   "execution_count": 68,
   "id": "143aa321-2f0a-419e-a857-004dd09b4d7d",
   "metadata": {},
   "outputs": [
    {
     "name": "stdout",
     "output_type": "stream",
     "text": [
      "The Addition of 10,20 is 30\n",
      "The Addition of{},{} is {}\n",
      "The Addition of 10,20 is 30\n"
     ]
    }
   ],
   "source": [
    "a=10\n",
    "b=20\n",
    "c=a+b\n",
    "#The addition of 10,20 is 30\n",
    "print(\"The Addition of 10,20 is 30\")\n",
    "print(\"The Addition of{},{} is {}\")\n",
    "print(\"The Addition of {},{} is {}\".format(a,b,c))"
   ]
  },
  {
   "cell_type": "code",
   "execution_count": 149,
   "id": "48332c8d-85a4-4f26-8938-2497d0054e9c",
   "metadata": {},
   "outputs": [
    {
     "name": "stdout",
     "output_type": "stream",
     "text": [
      "My name is archana,My age is 19 I came from jalna\n"
     ]
    }
   ],
   "source": [
    "name='archana'\n",
    "age=19\n",
    "city='jalna'\n",
    "print(\"My name is {},My age is {} I came from {}\".format(name,age,city))"
   ]
  },
  {
   "cell_type": "code",
   "execution_count": 151,
   "id": "1dbfa055-9190-4f9b-ac5d-a7ccde0b0a60",
   "metadata": {},
   "outputs": [
    {
     "name": "stdout",
     "output_type": "stream",
     "text": [
      "Addition of 10 and 20is 30\n",
      "Mul of 10 and 20 is 200\n"
     ]
    }
   ],
   "source": [
    "add\n",
    "mul\n",
    "sub\n",
    "div\n",
    "n1=10\n",
    "n2=20\n",
    "add=n1+n2\n",
    "mul=n1*n2\n",
    "sub=n1-n2\n",
    "div=n1/n2\n",
    "print(\"Addition of {} and {}is {}\".format(n1,n2,add))\n",
    "print(\"Mul of {} and {} is {}\".format(n1,n2,mul))"
   ]
  },
  {
   "cell_type": "code",
   "execution_count": 94,
   "id": "763d0c55-0c16-4edb-8007-3b8e51ac9b2b",
   "metadata": {},
   "outputs": [
    {
     "name": "stdout",
     "output_type": "stream",
     "text": [
      "the addition of 10,20is 30\n"
     ]
    }
   ],
   "source": [
    "a=10\n",
    "b=20\n",
    "c=a+b\n",
    "print(f\"the addition of {a},{b}is {c}\")\n",
    "#fstring method"
   ]
  },
  {
   "cell_type": "code",
   "execution_count": 108,
   "id": "62472d77-1e5b-4045-a0c8-9e731f50848e",
   "metadata": {},
   "outputs": [
    {
     "name": "stdout",
     "output_type": "stream",
     "text": [
      "The addition of10,20is30\n",
      "The Substraction of 10,20is-10\n",
      "The Multiplication of 10,20is200\n",
      "The division of 10,20is0.5\n"
     ]
    }
   ],
   "source": [
    "a=10\n",
    "b=20\n",
    "add=a+b\n",
    "sub=a-b\n",
    "mul=a*b\n",
    "div=a/b\n",
    "print(f\"The addition of{a},{b}is{add}\")\n",
    "print(f\"The Substraction of {a},{b}is{sub}\")\n",
    "print(f\"The Multiplication of {a},{b}is{mul}\")\n",
    "print(f\"The division of {a},{b}is{div}\")"
   ]
  },
  {
   "cell_type": "code",
   "execution_count": 118,
   "id": "73cad252-dcf7-4229-af72-2f891321ccdb",
   "metadata": {},
   "outputs": [
    {
     "name": "stdout",
     "output_type": "stream",
     "text": [
      "My name is Archana,My age is 19,I came from Jalna\n"
     ]
    }
   ],
   "source": [
    "name=\"Archana\"\n",
    "age=19\n",
    "city=\"Jalna\"\n",
    "print(f\"My name is {name},My age is {age},I came from {city}\")"
   ]
  },
  {
   "cell_type": "code",
   "execution_count": 120,
   "id": "6aa209bc-41fe-45d3-9cc6-71a942e44b45",
   "metadata": {},
   "outputs": [
    {
     "name": "stdout",
     "output_type": "stream",
     "text": [
      "10\n",
      "20\n"
     ]
    }
   ],
   "source": [
    "print(10)\n",
    "print(20)\n",
    "#using two print statements \n",
    "#we need to write 10,20\n"
   ]
  },
  {
   "cell_type": "markdown",
   "id": "9dd3cb1a-ac51-4ff8-8908-e885d88920b6",
   "metadata": {},
   "source": [
    "**End Operator**"
   ]
  },
  {
   "cell_type": "code",
   "execution_count": 123,
   "id": "803e4617-9ac5-4bf3-bca9-63cbbe422d77",
   "metadata": {},
   "outputs": [
    {
     "name": "stdout",
     "output_type": "stream",
     "text": [
      "10=20\n"
     ]
    }
   ],
   "source": [
    "print(10,end='=')\n",
    "print(20)"
   ]
  },
  {
   "cell_type": "code",
   "execution_count": 127,
   "id": "85078201-8649-4d23-b521-29c5818b5beb",
   "metadata": {},
   "outputs": [
    {
     "name": "stdout",
     "output_type": "stream",
     "text": [
      "10,20,30\n"
     ]
    }
   ],
   "source": [
    "print(10,end=',')\n",
    "print(20,end=',')\n",
    "print(30)"
   ]
  },
  {
   "cell_type": "markdown",
   "id": "41ef3d46-01aa-46b8-a452-e6336730a646",
   "metadata": {},
   "source": [
    "**Seperator**"
   ]
  },
  {
   "cell_type": "code",
   "execution_count": 144,
   "id": "aaf98f3d-1fe8-4b93-aae1-c540de0e8e6d",
   "metadata": {},
   "outputs": [
    {
     "name": "stdout",
     "output_type": "stream",
     "text": [
      "10-->20-->30\n"
     ]
    }
   ],
   "source": [
    "#usig one print statement\n",
    "#10-->20-->30\n",
    "#print(10'-->',20'-->30')\n",
    "#Seperating the all values inside the one print\n",
    "print(10,20,30,sep='-->')"
   ]
  },
  {
   "cell_type": "code",
   "execution_count": 146,
   "id": "d24160b8-e653-47e4-ac69-5154bdcd0fe5",
   "metadata": {},
   "outputs": [
    {
     "name": "stdout",
     "output_type": "stream",
     "text": [
      "10+20=30.\n"
     ]
    }
   ],
   "source": [
    "#10+20=30\n",
    "print(10,end='+')\n",
    "print(20,end='=')\n",
    "print(30,'.',sep='')"
   ]
  },
  {
   "cell_type": "markdown",
   "id": "1e1fdfec-a6be-40b1-88fc-4d8194446635",
   "metadata": {},
   "source": [
    "- Format Method\n",
    "- F string Method\n",
    "- sep\n",
    "- end"
   ]
  },
  {
   "cell_type": "code",
   "execution_count": null,
   "id": "8c409899-cc58-42d3-a832-6e1f00260de5",
   "metadata": {},
   "outputs": [],
   "source": []
  }
 ],
 "metadata": {
  "kernelspec": {
   "display_name": "Python 3 (ipykernel)",
   "language": "python",
   "name": "python3"
  },
  "language_info": {
   "codemirror_mode": {
    "name": "ipython",
    "version": 3
   },
   "file_extension": ".py",
   "mimetype": "text/x-python",
   "name": "python",
   "nbconvert_exporter": "python",
   "pygments_lexer": "ipython3",
   "version": "3.12.4"
  }
 },
 "nbformat": 4,
 "nbformat_minor": 5
}
