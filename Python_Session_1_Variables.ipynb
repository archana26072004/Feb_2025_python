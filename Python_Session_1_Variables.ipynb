{
 "cells": [
  {
   "cell_type": "markdown",
   "id": "8f11942b-11c5-4f75-8900-0a3acf7ed327",
   "metadata": {},
   "source": [
    "**Variables**"
   ]
  },
  {
   "cell_type": "markdown",
   "id": "3e3ba64f-f820-4a93-800a-57fc56d4c3a8",
   "metadata": {},
   "source": [
    "- variables are use to store the values\n",
    "- variables can changes their values\n",
    "- varyyy:Varying"
   ]
  },
  {
   "cell_type": "code",
   "execution_count": 3,
   "id": "a53cdde8-077c-48cb-b4db-615bc4631f79",
   "metadata": {},
   "outputs": [
    {
     "data": {
      "text/plain": [
       "100"
      ]
     },
     "execution_count": 3,
     "metadata": {},
     "output_type": "execute_result"
    }
   ],
   "source": [
    "number=100\n",
    "number\n",
    "\n",
    "# 100 is storing in a variable called 'number'"
   ]
  },
  {
   "cell_type": "code",
   "execution_count": 5,
   "id": "08f7e4b2-49ec-4c8f-a97e-38f6d6c2408e",
   "metadata": {},
   "outputs": [
    {
     "data": {
      "text/plain": [
       "200"
      ]
     },
     "execution_count": 5,
     "metadata": {},
     "output_type": "execute_result"
    }
   ],
   "source": [
    "number=200\n",
    "number\n",
    "\n",
    "# "
   ]
  },
  {
   "cell_type": "code",
   "execution_count": 9,
   "id": "4ca7b326-1082-48f6-ad6b-80ac9eb6807d",
   "metadata": {},
   "outputs": [],
   "source": [
    "Archana=500\n",
    "#500 is a avlue stored in a variable Archana"
   ]
  },
  {
   "cell_type": "code",
   "execution_count": 21,
   "id": "ec592803-8d10-405d-ae51-9b17800f66b1",
   "metadata": {},
   "outputs": [
    {
     "data": {
      "text/plain": [
       "200"
      ]
     },
     "execution_count": 21,
     "metadata": {},
     "output_type": "execute_result"
    }
   ],
   "source": [
    "NUMBER=200\n",
    "NUMBER"
   ]
  },
  {
   "cell_type": "code",
   "execution_count": 15,
   "id": "b91d04f5-7c1e-4faa-902a-366c900f18a7",
   "metadata": {},
   "outputs": [
    {
     "data": {
      "text/plain": [
       "300"
      ]
     },
     "execution_count": 15,
     "metadata": {},
     "output_type": "execute_result"
    }
   ],
   "source": [
    "NUMber=300\n",
    "NUMber"
   ]
  },
  {
   "cell_type": "code",
   "execution_count": 19,
   "id": "4d3804a3-07e4-456d-bfe7-a1a14388783d",
   "metadata": {},
   "outputs": [
    {
     "data": {
      "text/plain": [
       "400"
      ]
     },
     "execution_count": 19,
     "metadata": {},
     "output_type": "execute_result"
    }
   ],
   "source": [
    "number123=400\n",
    "number123"
   ]
  },
  {
   "cell_type": "code",
   "execution_count": 23,
   "id": "d16e181b-e72b-4b24-b073-86f422a9a818",
   "metadata": {},
   "outputs": [
    {
     "ename": "SyntaxError",
     "evalue": "invalid decimal literal (1181908654.py, line 1)",
     "output_type": "error",
     "traceback": [
      "\u001b[1;36m  Cell \u001b[1;32mIn[23], line 1\u001b[1;36m\u001b[0m\n\u001b[1;33m    123number=500\u001b[0m\n\u001b[1;37m      ^\u001b[0m\n\u001b[1;31mSyntaxError\u001b[0m\u001b[1;31m:\u001b[0m invalid decimal literal\n"
     ]
    }
   ],
   "source": [
    "123number=500\n",
    "123number\n",
    "#variables does not have as prefix\n",
    "#variables should not start with number"
   ]
  },
  {
   "cell_type": "code",
   "execution_count": 25,
   "id": "ed17ec62-e144-4f6a-8350-a0a04d31bb36",
   "metadata": {},
   "outputs": [
    {
     "ename": "SyntaxError",
     "evalue": "cannot assign to expression here. Maybe you meant '==' instead of '='? (2320124088.py, line 1)",
     "output_type": "error",
     "traceback": [
      "\u001b[1;36m  Cell \u001b[1;32mIn[25], line 1\u001b[1;36m\u001b[0m\n\u001b[1;33m    Number*one=500\u001b[0m\n\u001b[1;37m    ^\u001b[0m\n\u001b[1;31mSyntaxError\u001b[0m\u001b[1;31m:\u001b[0m cannot assign to expression here. Maybe you meant '==' instead of '='?\n"
     ]
    }
   ],
   "source": [
    "Number*one=500\n",
    "Number*one\n",
    "#variables does not have special characters"
   ]
  },
  {
   "cell_type": "code",
   "execution_count": 39,
   "id": "14799385-563e-4fa4-ace9-a12399beacb0",
   "metadata": {},
   "outputs": [
    {
     "data": {
      "text/plain": [
       "500"
      ]
     },
     "execution_count": 39,
     "metadata": {},
     "output_type": "execute_result"
    }
   ],
   "source": [
    "number_one=500\n",
    "number_one\n",
    "# only underscore use as variables"
   ]
  },
  {
   "cell_type": "code",
   "execution_count": 29,
   "id": "5f1f0ce7-c3da-4cfe-90d9-99170abc0e1a",
   "metadata": {},
   "outputs": [
    {
     "data": {
      "text/plain": [
       "900"
      ]
     },
     "execution_count": 29,
     "metadata": {},
     "output_type": "execute_result"
    }
   ],
   "source": [
    "_=900\n",
    "_\n",
    "#only underscore can repesent variables"
   ]
  },
  {
   "cell_type": "markdown",
   "id": "eb2ab9e4-14d5-498a-8704-62e26961d3f4",
   "metadata": {},
   "source": [
    "- variables are case sensitive\n",
    "- variables can represent a capital letters\n",
    "- variables can represent as small letters\n",
    "- variables can have noth combinations\n",
    "- python will consider latest value\n",
    "- variables does not starts with numbers\n",
    "- variables can have numbers at last\n",
    "- variables does not contains any special characters except underscore\n",
    "- variables does not any space between letters:number one\n",
    "- only underscore can use as variables\n",
    "- keywords can not use as variables: if,else "
   ]
  },
  {
   "cell_type": "code",
   "execution_count": 34,
   "id": "f592574c-0bf0-417c-97e9-d24651c36b65",
   "metadata": {},
   "outputs": [
    {
     "data": {
      "text/plain": [
       "100"
      ]
     },
     "execution_count": 34,
     "metadata": {},
     "output_type": "execute_result"
    }
   ],
   "source": [
    "number_123=100\n",
    "number_123"
   ]
  },
  {
   "cell_type": "code",
   "execution_count": 37,
   "id": "63c4bf5e-dbe1-4389-a573-c1b8a158ecf7",
   "metadata": {},
   "outputs": [
    {
     "data": {
      "text/plain": [
       "300"
      ]
     },
     "execution_count": 37,
     "metadata": {},
     "output_type": "execute_result"
    }
   ],
   "source": [
    "numBER=300\n",
    "numBER"
   ]
  },
  {
   "cell_type": "code",
   "execution_count": null,
   "id": "6e31b0dc-be61-4d5c-8663-a2f0b6a65ddd",
   "metadata": {},
   "outputs": [],
   "source": []
  }
 ],
 "metadata": {
  "kernelspec": {
   "display_name": "Python 3 (ipykernel)",
   "language": "python",
   "name": "python3"
  },
  "language_info": {
   "codemirror_mode": {
    "name": "ipython",
    "version": 3
   },
   "file_extension": ".py",
   "mimetype": "text/x-python",
   "name": "python",
   "nbconvert_exporter": "python",
   "pygments_lexer": "ipython3",
   "version": "3.12.4"
  }
 },
 "nbformat": 4,
 "nbformat_minor": 5
}
