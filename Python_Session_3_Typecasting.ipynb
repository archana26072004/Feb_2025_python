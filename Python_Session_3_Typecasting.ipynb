{
 "cells": [
  {
   "cell_type": "markdown",
   "id": "8b1f04fc-91ad-4c43-8a62-a267903d3a87",
   "metadata": {},
   "source": [
    "- integer====int\n",
    "- float====float\n",
    "- string====str\n",
    "- boolean====bool"
   ]
  },
  {
   "cell_type": "markdown",
   "id": "f14a1cb6-6cbf-4f0d-adcb-1be5af457dd9",
   "metadata": {},
   "source": [
    "**Integer to other data types**"
   ]
  },
  {
   "cell_type": "code",
   "execution_count": 3,
   "id": "f15e5fbf-6767-47ee-b5ed-90eda0832332",
   "metadata": {},
   "outputs": [
    {
     "data": {
      "text/plain": [
       "int"
      ]
     },
     "execution_count": 3,
     "metadata": {},
     "output_type": "execute_result"
    }
   ],
   "source": [
    "num1=100\n",
    "type(num1)"
   ]
  },
  {
   "cell_type": "code",
   "execution_count": 4,
   "id": "1588fe56-c15d-4475-9428-1a18ff2948c1",
   "metadata": {},
   "outputs": [
    {
     "data": {
      "text/plain": [
       "100.0"
      ]
     },
     "execution_count": 4,
     "metadata": {},
     "output_type": "execute_result"
    }
   ],
   "source": [
    "num_float=float(num1)\n",
    "num_float"
   ]
  },
  {
   "cell_type": "code",
   "execution_count": 5,
   "id": "0b9958a5-9d95-4029-86ed-25beb641b1e3",
   "metadata": {},
   "outputs": [
    {
     "data": {
      "text/plain": [
       "float"
      ]
     },
     "execution_count": 5,
     "metadata": {},
     "output_type": "execute_result"
    }
   ],
   "source": [
    "type(num_float)"
   ]
  },
  {
   "cell_type": "markdown",
   "id": "cf1d6fb7-d954-46a0-b226-e65c551ec063",
   "metadata": {},
   "source": [
    "- num1 is a variable stored value:100\n",
    "- num1 is a integer type\n",
    "- to convert float we need to write ,float(num1)\n",
    "- float(num1) gives 100.0\n",
    "- float(num1)stored in a variable: num_float\n",
    "- num_float is a float type"
   ]
  },
  {
   "cell_type": "markdown",
   "id": "e2b2307c-34a6-4dc6-baea-cbd61abd1a09",
   "metadata": {},
   "source": [
    "**Name Error**\n",
    "\n",
    "\n",
    "- Whenever if we see name error means that corresponding variable id not defined\n",
    "- For example in below naresh is variable\n",
    "- Is not defined before , that why we are getting erroe\n",
    "- So go above the line and search above line and search variable:naresh\n",
    "- If you feel that is already defined then run again"
   ]
  },
  {
   "cell_type": "code",
   "execution_count": 8,
   "id": "51190a80-ee31-4134-8e75-c1c787d88a06",
   "metadata": {},
   "outputs": [
    {
     "ename": "NameError",
     "evalue": "name 'naresh' is not defined",
     "output_type": "error",
     "traceback": [
      "\u001b[1;31m---------------------------------------------------------------------------\u001b[0m",
      "\u001b[1;31mNameError\u001b[0m                                 Traceback (most recent call last)",
      "Cell \u001b[1;32mIn[8], line 1\u001b[0m\n\u001b[1;32m----> 1\u001b[0m naresh\n",
      "\u001b[1;31mNameError\u001b[0m: name 'naresh' is not defined"
     ]
    }
   ],
   "source": [
    "naresh"
   ]
  },
  {
   "cell_type": "code",
   "execution_count": null,
   "id": "14c97ea3-0750-47b8-a566-04ac82135e48",
   "metadata": {},
   "outputs": [],
   "source": [
    "#Integer to string conversion \n",
    "num1=100\n",
    "num_string=str(num1)\n",
    "num_string"
   ]
  },
  {
   "cell_type": "code",
   "execution_count": null,
   "id": "faf1d0c8-7f59-4566-8cf3-6f5061f4bd63",
   "metadata": {},
   "outputs": [],
   "source": [
    "#Integer to Boolean\n",
    "num1=100\n",
    "num_bool=bool(num1)\n",
    "num_bool"
   ]
  },
  {
   "cell_type": "code",
   "execution_count": null,
   "id": "41a20e02-f244-4a1a-8f23-727c1c0a062a",
   "metadata": {},
   "outputs": [],
   "source": [
    "type(num_bool)"
   ]
  },
  {
   "cell_type": "code",
   "execution_count": null,
   "id": "8a594ecc-b4b0-4423-accd-10e0961cb4c0",
   "metadata": {},
   "outputs": [],
   "source": [
    "num2=-100\n",
    "num_bool=bool(num2)\n",
    "num_bool"
   ]
  },
  {
   "cell_type": "code",
   "execution_count": null,
   "id": "295c53a3-7329-4ecf-977e-92c2bae49e29",
   "metadata": {},
   "outputs": [],
   "source": [
    "num3=0\n",
    "num_bool=bool(num3)\n",
    "num_bool"
   ]
  },
  {
   "cell_type": "markdown",
   "id": "5d51c130-6a83-4368-a453-3c97fbf3e7cc",
   "metadata": {},
   "source": [
    "**Note**\n",
    "- When boolean conversion of integer gives false\n",
    "  - For 0 value ,it gives False"
   ]
  },
  {
   "cell_type": "code",
   "execution_count": null,
   "id": "8cc86042-6fe5-470d-ab17-e688a02d7e2a",
   "metadata": {},
   "outputs": [],
   "source": [
    "num1=100\n",
    "num1_float=float(num1)\n",
    "num1_str=str(num1)\n",
    "num1_bool=bool(num1)\n",
    "num1_float,num1_str,num1_bool"
   ]
  },
  {
   "cell_type": "code",
   "execution_count": null,
   "id": "f464b3a5-64ed-4093-b4fa-c078d5ef743f",
   "metadata": {},
   "outputs": [],
   "source": [
    "float(10000),str(10000),bool(10000)"
   ]
  },
  {
   "cell_type": "markdown",
   "id": "48a38b6e-29fa-4650-8834-88b075e6d447",
   "metadata": {},
   "source": [
    "**Float to Other data types**"
   ]
  },
  {
   "cell_type": "code",
   "execution_count": null,
   "id": "afe47b27-8203-44df-bcbf-62885c58fc06",
   "metadata": {},
   "outputs": [],
   "source": [
    "num1=100.1\n",
    "type(num1)"
   ]
  },
  {
   "cell_type": "code",
   "execution_count": null,
   "id": "4b464d24-8737-4501-868f-337c82c43d6d",
   "metadata": {},
   "outputs": [],
   "source": [
    "num1_int=int(num1)\n",
    "num1_str=str(num1)\n",
    "num1_bool=bool(num1)\n",
    "num1_int,num1_str,num1_bool"
   ]
  },
  {
   "cell_type": "code",
   "execution_count": 24,
   "id": "4c4e99ee-841e-4684-aefc-f10f3880c0bc",
   "metadata": {},
   "outputs": [
    {
     "data": {
      "text/plain": [
       "True"
      ]
     },
     "execution_count": 24,
     "metadata": {},
     "output_type": "execute_result"
    }
   ],
   "source": [
    "#case-1\n",
    "str='apple'\n",
    "int('apple')#error\n",
    "float('apple')#error\n",
    "bool('apple')#True\n",
    "bool('apple')"
   ]
  },
  {
   "cell_type": "code",
   "execution_count": null,
   "id": "a4264bdd-7563-4f1e-aedc-6a368c5f606f",
   "metadata": {},
   "outputs": [],
   "source": [
    "#case-2\n",
    "str='apple123'\n",
    "int('123')\n",
    "float('apple123')\n",
    "bool('apple123')\n",
    "bool('apple123')\n"
   ]
  },
  {
   "cell_type": "code",
   "execution_count": null,
   "id": "88810ec4-12c5-451b-8d6e-97a33e53588d",
   "metadata": {},
   "outputs": [],
   "source": [
    "#case3\n",
    "str=0\n",
    "int('0')\n",
    "float('0')\n",
    "bool('0')"
   ]
  },
  {
   "cell_type": "code",
   "execution_count": null,
   "id": "4c283dff-66c7-483c-92ea-754d43a7ad81",
   "metadata": {},
   "outputs": [],
   "source": [
    "#case-4\n",
    "str=''\n",
    "int('')\n",
    "float('')\n",
    "bool('')"
   ]
  },
  {
   "cell_type": "code",
   "execution_count": null,
   "id": "7dc44476-5395-4b05-a2c1-2bd6a7b492cb",
   "metadata": {},
   "outputs": [],
   "source": [
    "#case5\n",
    "str='10'\n",
    "int('10.5')\n",
    "float('10')\n",
    "bool('10')\n",
    "int('10')"
   ]
  },
  {
   "cell_type": "markdown",
   "id": "ec3f42c2-7c09-49ac-a1da-9541d9584840",
   "metadata": {},
   "source": [
    "- English letters as string representation\n",
    " -apple\n",
    "   - int fail\n",
    "   - float fail\n",
    "   - boolean True\n",
    "- English letter with numbers as string representation\n",
    " - apple123\n",
    "   - int fail\n",
    "   - float fail\n",
    "   - bool True\n",
    "\n",
    "- 0 as a string representation\n",
    " - 0\n",
    "  - int will give 0\n",
    "  - float will give 0.0\n",
    "  - bool will give True\n",
    "- Empty string as string representation\n",
    "  - int fail\n",
    "  - float fail\n",
    "  - bool False\n",
    "- 10 as string representation\n",
    "   - int will give 10\n",
    "   - float will give 10.0\n",
    "  - bool will give True\n",
    "- 10.5 as string representaion\n",
    "  - int fail\n",
    "  - float 010.5\n",
    "  - bool True"
   ]
  },
  {
   "cell_type": "code",
   "execution_count": null,
   "id": "a04c4ec3-9b12-4332-9f9f-685654036f75",
   "metadata": {},
   "outputs": [],
   "source": [
    "int('10')"
   ]
  },
  {
   "cell_type": "code",
   "execution_count": null,
   "id": "267ee7ec-4ae0-47b5-8103-c6f3f03fae80",
   "metadata": {},
   "outputs": [],
   "source": [
    "float('10')"
   ]
  },
  {
   "cell_type": "code",
   "execution_count": null,
   "id": "6d670c21-745c-40b5-87bb-50db1a20fb35",
   "metadata": {},
   "outputs": [],
   "source": [
    "int('10.0')"
   ]
  },
  {
   "cell_type": "markdown",
   "id": "09883bb5-c6a0-489f-bdbf-5c6510febdf7",
   "metadata": {},
   "source": [
    "**float is a boss**\n",
    "float('10')\n",
    "float('10.5')\n",
    "\n",
    "**integer will works only int family**\n",
    "int('10')\n",
    "int('10.5')\n",
    "    #int('10.5') will give error\n"
   ]
  },
  {
   "cell_type": "code",
   "execution_count": null,
   "id": "19d27e86-564c-4900-abbd-62cf8e664aa7",
   "metadata": {},
   "outputs": [],
   "source": [
    "bool(''),bool(' ')"
   ]
  },
  {
   "cell_type": "markdown",
   "id": "871748fc-a052-4a36-acc9-71b0ccd573f6",
   "metadata": {},
   "source": [
    "**Boolean to other data types**"
   ]
  },
  {
   "cell_type": "code",
   "execution_count": null,
   "id": "005f29ac-5b55-4479-9045-f9506f959fe0",
   "metadata": {},
   "outputs": [],
   "source": [
    "int(True)\n"
   ]
  },
  {
   "cell_type": "code",
   "execution_count": null,
   "id": "58f79fe1-1fa1-40c5-b72f-769a2cd36aa4",
   "metadata": {},
   "outputs": [],
   "source": [
    "float(True)"
   ]
  },
  {
   "cell_type": "code",
   "execution_count": 22,
   "id": "94114517-dcc5-4bce-8d88-db8aa1591c18",
   "metadata": {},
   "outputs": [
    {
     "data": {
      "text/plain": [
       "'1'"
      ]
     },
     "execution_count": 22,
     "metadata": {},
     "output_type": "execute_result"
    }
   ],
   "source": [
    "str(1)"
   ]
  },
  {
   "cell_type": "code",
   "execution_count": 167,
   "id": "9358c135-fd34-459e-832c-f1db53422084",
   "metadata": {},
   "outputs": [
    {
     "ename": "TypeError",
     "evalue": "'str' object is not callable",
     "output_type": "error",
     "traceback": [
      "\u001b[1;31m---------------------------------------------------------------------------\u001b[0m",
      "\u001b[1;31mTypeError\u001b[0m                                 Traceback (most recent call last)",
      "Cell \u001b[1;32mIn[167], line 1\u001b[0m\n\u001b[1;32m----> 1\u001b[0m \u001b[38;5;28mstr\u001b[39m(\u001b[38;5;28;01mTrue\u001b[39;00m)\n",
      "\u001b[1;31mTypeError\u001b[0m: 'str' object is not callable"
     ]
    }
   ],
   "source": [
    "\n"
   ]
  },
  {
   "cell_type": "code",
   "execution_count": 169,
   "id": "ceefef54-dda8-4442-a758-46530e3786ac",
   "metadata": {},
   "outputs": [
    {
     "ename": "TypeError",
     "evalue": "'str' object is not callable",
     "output_type": "error",
     "traceback": [
      "\u001b[1;31m---------------------------------------------------------------------------\u001b[0m",
      "\u001b[1;31mTypeError\u001b[0m                                 Traceback (most recent call last)",
      "Cell \u001b[1;32mIn[169], line 1\u001b[0m\n\u001b[1;32m----> 1\u001b[0m \u001b[38;5;28mstr\u001b[39m(\u001b[38;5;28;01mTrue\u001b[39;00m)\n",
      "\u001b[1;31mTypeError\u001b[0m: 'str' object is not callable"
     ]
    }
   ],
   "source": []
  },
  {
   "cell_type": "code",
   "execution_count": 171,
   "id": "5332e693-b515-4c78-b7e1-bab120742d3a",
   "metadata": {},
   "outputs": [
    {
     "ename": "TypeError",
     "evalue": "'int' object is not callable",
     "output_type": "error",
     "traceback": [
      "\u001b[1;31m---------------------------------------------------------------------------\u001b[0m",
      "\u001b[1;31mTypeError\u001b[0m                                 Traceback (most recent call last)",
      "Cell \u001b[1;32mIn[171], line 1\u001b[0m\n\u001b[1;32m----> 1\u001b[0m \u001b[38;5;28mint\u001b[39m(\u001b[38;5;28;01mFalse\u001b[39;00m)\n\u001b[0;32m      2\u001b[0m \u001b[38;5;28mfloat\u001b[39m(\u001b[38;5;28;01mFalse\u001b[39;00m)\n\u001b[0;32m      3\u001b[0m \u001b[38;5;28mstr\u001b[39m(\u001b[38;5;28;01mFalse\u001b[39;00m)\n",
      "\u001b[1;31mTypeError\u001b[0m: 'int' object is not callable"
     ]
    }
   ],
   "source": []
  },
  {
   "cell_type": "code",
   "execution_count": 173,
   "id": "f6e5774c-30d7-4097-b616-5f86d56fc7fa",
   "metadata": {},
   "outputs": [
    {
     "ename": "TypeError",
     "evalue": "'int' object is not callable",
     "output_type": "error",
     "traceback": [
      "\u001b[1;31m---------------------------------------------------------------------------\u001b[0m",
      "\u001b[1;31mTypeError\u001b[0m                                 Traceback (most recent call last)",
      "Cell \u001b[1;32mIn[173], line 1\u001b[0m\n\u001b[1;32m----> 1\u001b[0m \u001b[38;5;28mint\u001b[39m(\u001b[38;5;28;01mFalse\u001b[39;00m)\n",
      "\u001b[1;31mTypeError\u001b[0m: 'int' object is not callable"
     ]
    }
   ],
   "source": []
  },
  {
   "cell_type": "code",
   "execution_count": null,
   "id": "fa91307d-2deb-4d90-91bf-8faf6c546767",
   "metadata": {},
   "outputs": [],
   "source": []
  }
 ],
 "metadata": {
  "kernelspec": {
   "display_name": "Python 3 (ipykernel)",
   "language": "python",
   "name": "python3"
  },
  "language_info": {
   "codemirror_mode": {
    "name": "ipython",
    "version": 3
   },
   "file_extension": ".py",
   "mimetype": "text/x-python",
   "name": "python",
   "nbconvert_exporter": "python",
   "pygments_lexer": "ipython3",
   "version": "3.12.4"
  }
 },
 "nbformat": 4,
 "nbformat_minor": 5
}
